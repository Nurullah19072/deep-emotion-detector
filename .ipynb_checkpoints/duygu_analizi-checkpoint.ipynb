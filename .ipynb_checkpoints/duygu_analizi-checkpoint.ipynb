{
 "cells": [
  {
   "cell_type": "code",
   "execution_count": 1,
   "id": "824372d0-f4dc-411f-bf34-c10ef281c5a3",
   "metadata": {},
   "outputs": [
    {
     "name": "stdout",
     "output_type": "stream",
     "text": [
      "\n",
      "🔍 İşleniyor: ANGRY\n"
     ]
    },
    {
     "name": "stderr",
     "output_type": "stream",
     "text": [
      "100%|█████████████████████████████████████████████████████████████████████████████| 3524/3524 [00:04<00:00, 733.39it/s]\n"
     ]
    },
    {
     "name": "stdout",
     "output_type": "stream",
     "text": [
      "\n",
      "🧾 ANGRY KLASÖRÜ ÖZETİ:\n",
      "Toplam Korunan : 3524\n",
      "Toplam Silinen : 0\n",
      "\n",
      "🔍 İşleniyor: FEAR\n"
     ]
    },
    {
     "name": "stderr",
     "output_type": "stream",
     "text": [
      "100%|█████████████████████████████████████████████████████████████████████████████| 2834/2834 [00:03<00:00, 755.73it/s]\n"
     ]
    },
    {
     "name": "stdout",
     "output_type": "stream",
     "text": [
      "\n",
      "🧾 FEAR KLASÖRÜ ÖZETİ:\n",
      "Toplam Korunan : 2834\n",
      "Toplam Silinen : 0\n",
      "\n",
      "🔍 İşleniyor: HAPPY\n"
     ]
    },
    {
     "name": "stderr",
     "output_type": "stream",
     "text": [
      "100%|█████████████████████████████████████████████████████████████████████████████| 4280/4280 [00:06<00:00, 642.75it/s]\n"
     ]
    },
    {
     "name": "stdout",
     "output_type": "stream",
     "text": [
      "\n",
      "🧾 HAPPY KLASÖRÜ ÖZETİ:\n",
      "Toplam Korunan : 4280\n",
      "Toplam Silinen : 0\n",
      "\n",
      "🔍 İşleniyor: NEUTRAL\n"
     ]
    },
    {
     "name": "stderr",
     "output_type": "stream",
     "text": [
      "100%|█████████████████████████████████████████████████████████████████████████████| 2842/2842 [00:04<00:00, 698.30it/s]\n"
     ]
    },
    {
     "name": "stdout",
     "output_type": "stream",
     "text": [
      "\n",
      "🧾 NEUTRAL KLASÖRÜ ÖZETİ:\n",
      "Toplam Korunan : 2842\n",
      "Toplam Silinen : 0\n",
      "\n",
      "🔍 İşleniyor: SAD\n"
     ]
    },
    {
     "name": "stderr",
     "output_type": "stream",
     "text": [
      "100%|█████████████████████████████████████████████████████████████████████████████| 2920/2920 [00:03<00:00, 754.10it/s]\n"
     ]
    },
    {
     "name": "stdout",
     "output_type": "stream",
     "text": [
      "\n",
      "🧾 SAD KLASÖRÜ ÖZETİ:\n",
      "Toplam Korunan : 2920\n",
      "Toplam Silinen : 0\n",
      "\n",
      "🔍 İşleniyor: SURPRISE\n"
     ]
    },
    {
     "name": "stderr",
     "output_type": "stream",
     "text": [
      "100%|█████████████████████████████████████████████████████████████████████████████| 4445/4445 [00:06<00:00, 714.83it/s]"
     ]
    },
    {
     "name": "stdout",
     "output_type": "stream",
     "text": [
      "\n",
      "🧾 SURPRISE KLASÖRÜ ÖZETİ:\n",
      "Toplam Korunan : 4445\n",
      "Toplam Silinen : 0\n"
     ]
    },
    {
     "name": "stderr",
     "output_type": "stream",
     "text": [
      "\n"
     ]
    }
   ],
   "source": [
    "import os\n",
    "from PIL import Image\n",
    "import imagehash\n",
    "from tqdm import tqdm\n",
    "\n",
    "# Ana klasör yolu\n",
    "dataset_dir = 'archive'\n",
    "hash_function = imagehash.average_hash  # Ortalama hash fonksiyonu (phash, dhash de olabilir)\n",
    "\n",
    "# Her duygu klasörü için işle\n",
    "for emotion in os.listdir(dataset_dir):\n",
    "    emotion_path = os.path.join(dataset_dir, emotion)\n",
    "    if not os.path.isdir(emotion_path):\n",
    "        continue\n",
    "\n",
    "    print(f\"\\n🔍 İşleniyor: {emotion.upper()}\")\n",
    "    seen_hashes = {}\n",
    "    removed_count = 0\n",
    "    kept_count = 0\n",
    "\n",
    "    for img_name in tqdm(os.listdir(emotion_path)):\n",
    "        img_path = os.path.join(emotion_path, img_name)\n",
    "\n",
    "        try:\n",
    "            with Image.open(img_path).convert(\"RGB\") as img:\n",
    "                img_hash = str(hash_function(img))\n",
    "\n",
    "                if img_hash in seen_hashes:\n",
    "                    print(f\"❌ SİLİNDİ : {img_name}  ↔  (kopyası: {seen_hashes[img_hash]})\")\n",
    "                    os.remove(img_path)\n",
    "                    removed_count += 1\n",
    "                else:\n",
    "                    \n",
    "                    seen_hashes[img_hash] = img_name\n",
    "                    kept_count += 1\n",
    "        except Exception as e:\n",
    "            print(f\"HATA ({img_name}): {e}\")\n",
    "            continue\n",
    "\n",
    "    print(f\"\\n🧾 {emotion.upper()} KLASÖRÜ ÖZETİ:\")\n",
    "    print(f\"Toplam Korunan : {kept_count}\")\n",
    "    print(f\"Toplam Silinen : {removed_count}\")\n"
   ]
  },
  {
   "cell_type": "code",
   "execution_count": 2,
   "id": "6c858d2d-817e-477c-bc9e-754b457a4da3",
   "metadata": {},
   "outputs": [
    {
     "name": "stdout",
     "output_type": "stream",
     "text": [
      "✅ Eğitim ve test verisi oluşturuldu.\n"
     ]
    }
   ],
   "source": [
    "from tensorflow.keras.preprocessing.image import ImageDataGenerator\n",
    "from sklearn.model_selection import train_test_split\n",
    "import os\n",
    "import shutil\n",
    "\n",
    "# Orijinal veri klasörü\n",
    "original_dir = 'archive'\n",
    "# Eğitim ve test verisi için klasörler\n",
    "train_dir = 'data/train'\n",
    "test_dir = 'data/test'\n",
    "\n",
    "# Eğer varsa eski data klasörlerini temizle\n",
    "if os.path.exists(train_dir):\n",
    "    shutil.rmtree(train_dir)\n",
    "if os.path.exists(test_dir):\n",
    "    shutil.rmtree(test_dir)\n",
    "\n",
    "# Klasörleri yeniden oluştur\n",
    "os.makedirs(train_dir)\n",
    "os.makedirs(test_dir)\n",
    "\n",
    "# Her duygu klasörünü işle\n",
    "for label in os.listdir(original_dir):\n",
    "    label_path = os.path.join(original_dir, label)\n",
    "    if not os.path.isdir(label_path):\n",
    "        continue\n",
    "\n",
    "    images = os.listdir(label_path)\n",
    "    train_imgs, test_imgs = train_test_split(images, test_size=0.2, random_state=42)\n",
    "\n",
    "    # Eğitim klasörü\n",
    "    os.makedirs(os.path.join(train_dir, label), exist_ok=True)\n",
    "    for img in train_imgs:\n",
    "        shutil.copy(os.path.join(label_path, img), os.path.join(train_dir, label, img))\n",
    "\n",
    "    # Test klasörü\n",
    "    os.makedirs(os.path.join(test_dir, label), exist_ok=True)\n",
    "    for img in test_imgs:\n",
    "        shutil.copy(os.path.join(label_path, img), os.path.join(test_dir, label, img))\n",
    "\n",
    "print(\"✅ Eğitim ve test verisi oluşturuldu.\")\n"
   ]
  },
  {
   "cell_type": "code",
   "execution_count": 3,
   "id": "464bd056-0a5d-442c-b7cc-ba6c3c7d5000",
   "metadata": {},
   "outputs": [
    {
     "name": "stdout",
     "output_type": "stream",
     "text": [
      "Found 16675 images belonging to 6 classes.\n",
      "Found 4170 images belonging to 6 classes.\n"
     ]
    },
    {
     "name": "stderr",
     "output_type": "stream",
     "text": [
      "C:\\Users\\nrllh\\anaconda3\\Lib\\site-packages\\keras\\src\\trainers\\data_adapters\\py_dataset_adapter.py:121: UserWarning: Your `PyDataset` class should call `super().__init__(**kwargs)` in its constructor. `**kwargs` can include `workers`, `use_multiprocessing`, `max_queue_size`. Do not pass these arguments to `fit()`, as they will be ignored.\n",
      "  self._warn_if_super_not_called()\n"
     ]
    },
    {
     "name": "stdout",
     "output_type": "stream",
     "text": [
      "Epoch 1/70\n",
      "\u001b[1m261/261\u001b[0m \u001b[32m━━━━━━━━━━━━━━━━━━━━\u001b[0m\u001b[37m\u001b[0m \u001b[1m0s\u001b[0m 809ms/step - accuracy: 0.2120 - loss: 4.1252\n",
      "Epoch 1: val_accuracy improved from -inf to 0.21679, saving model to best_model_augmented.h5\n"
     ]
    },
    {
     "name": "stderr",
     "output_type": "stream",
     "text": [
      "WARNING:absl:You are saving your model as an HDF5 file via `model.save()` or `keras.saving.save_model(model)`. This file format is considered legacy. We recommend using instead the native Keras format, e.g. `model.save('my_model.keras')` or `keras.saving.save_model(model, 'my_model.keras')`. \n"
     ]
    },
    {
     "name": "stdout",
     "output_type": "stream",
     "text": [
      "\u001b[1m261/261\u001b[0m \u001b[32m━━━━━━━━━━━━━━━━━━━━\u001b[0m\u001b[37m\u001b[0m \u001b[1m228s\u001b[0m 858ms/step - accuracy: 0.2121 - loss: 4.1225 - val_accuracy: 0.2168 - val_loss: 6.6737 - learning_rate: 0.0010\n",
      "Epoch 2/70\n",
      "\u001b[1m261/261\u001b[0m \u001b[32m━━━━━━━━━━━━━━━━━━━━\u001b[0m\u001b[37m\u001b[0m \u001b[1m0s\u001b[0m 780ms/step - accuracy: 0.2547 - loss: 2.9192\n",
      "Epoch 2: val_accuracy improved from 0.21679 to 0.34652, saving model to best_model_augmented.h5\n"
     ]
    },
    {
     "name": "stderr",
     "output_type": "stream",
     "text": [
      "WARNING:absl:You are saving your model as an HDF5 file via `model.save()` or `keras.saving.save_model(model)`. This file format is considered legacy. We recommend using instead the native Keras format, e.g. `model.save('my_model.keras')` or `keras.saving.save_model(model, 'my_model.keras')`. \n"
     ]
    },
    {
     "name": "stdout",
     "output_type": "stream",
     "text": [
      "\u001b[1m261/261\u001b[0m \u001b[32m━━━━━━━━━━━━━━━━━━━━\u001b[0m\u001b[37m\u001b[0m \u001b[1m224s\u001b[0m 860ms/step - accuracy: 0.2548 - loss: 2.9189 - val_accuracy: 0.3465 - val_loss: 2.6102 - learning_rate: 0.0010\n",
      "Epoch 3/70\n",
      "\u001b[1m261/261\u001b[0m \u001b[32m━━━━━━━━━━━━━━━━━━━━\u001b[0m\u001b[37m\u001b[0m \u001b[1m0s\u001b[0m 809ms/step - accuracy: 0.2951 - loss: 2.6091\n",
      "Epoch 3: val_accuracy improved from 0.34652 to 0.40072, saving model to best_model_augmented.h5\n"
     ]
    },
    {
     "name": "stderr",
     "output_type": "stream",
     "text": [
      "WARNING:absl:You are saving your model as an HDF5 file via `model.save()` or `keras.saving.save_model(model)`. This file format is considered legacy. We recommend using instead the native Keras format, e.g. `model.save('my_model.keras')` or `keras.saving.save_model(model, 'my_model.keras')`. \n"
     ]
    },
    {
     "name": "stdout",
     "output_type": "stream",
     "text": [
      "\u001b[1m261/261\u001b[0m \u001b[32m━━━━━━━━━━━━━━━━━━━━\u001b[0m\u001b[37m\u001b[0m \u001b[1m261s\u001b[0m 857ms/step - accuracy: 0.2952 - loss: 2.6089 - val_accuracy: 0.4007 - val_loss: 2.3185 - learning_rate: 0.0010\n",
      "Epoch 4/70\n",
      "\u001b[1m261/261\u001b[0m \u001b[32m━━━━━━━━━━━━━━━━━━━━\u001b[0m\u001b[37m\u001b[0m \u001b[1m0s\u001b[0m 783ms/step - accuracy: 0.3331 - loss: 2.3646\n",
      "Epoch 4: val_accuracy did not improve from 0.40072\n",
      "\u001b[1m261/261\u001b[0m \u001b[32m━━━━━━━━━━━━━━━━━━━━\u001b[0m\u001b[37m\u001b[0m \u001b[1m255s\u001b[0m 829ms/step - accuracy: 0.3332 - loss: 2.3644 - val_accuracy: 0.3026 - val_loss: 2.6560 - learning_rate: 0.0010\n",
      "Epoch 5/70\n",
      "\u001b[1m261/261\u001b[0m \u001b[32m━━━━━━━━━━━━━━━━━━━━\u001b[0m\u001b[37m\u001b[0m \u001b[1m0s\u001b[0m 792ms/step - accuracy: 0.3727 - loss: 2.1855\n",
      "Epoch 5: val_accuracy improved from 0.40072 to 0.44676, saving model to best_model_augmented.h5\n"
     ]
    },
    {
     "name": "stderr",
     "output_type": "stream",
     "text": [
      "WARNING:absl:You are saving your model as an HDF5 file via `model.save()` or `keras.saving.save_model(model)`. This file format is considered legacy. We recommend using instead the native Keras format, e.g. `model.save('my_model.keras')` or `keras.saving.save_model(model, 'my_model.keras')`. \n"
     ]
    },
    {
     "name": "stdout",
     "output_type": "stream",
     "text": [
      "\u001b[1m261/261\u001b[0m \u001b[32m━━━━━━━━━━━━━━━━━━━━\u001b[0m\u001b[37m\u001b[0m \u001b[1m265s\u001b[0m 839ms/step - accuracy: 0.3727 - loss: 2.1853 - val_accuracy: 0.4468 - val_loss: 1.9134 - learning_rate: 0.0010\n",
      "Epoch 6/70\n",
      "\u001b[1m261/261\u001b[0m \u001b[32m━━━━━━━━━━━━━━━━━━━━\u001b[0m\u001b[37m\u001b[0m \u001b[1m0s\u001b[0m 788ms/step - accuracy: 0.4048 - loss: 1.9998\n",
      "Epoch 6: val_accuracy improved from 0.44676 to 0.45707, saving model to best_model_augmented.h5\n"
     ]
    },
    {
     "name": "stderr",
     "output_type": "stream",
     "text": [
      "WARNING:absl:You are saving your model as an HDF5 file via `model.save()` or `keras.saving.save_model(model)`. This file format is considered legacy. We recommend using instead the native Keras format, e.g. `model.save('my_model.keras')` or `keras.saving.save_model(model, 'my_model.keras')`. \n"
     ]
    },
    {
     "name": "stdout",
     "output_type": "stream",
     "text": [
      "\u001b[1m261/261\u001b[0m \u001b[32m━━━━━━━━━━━━━━━━━━━━\u001b[0m\u001b[37m\u001b[0m \u001b[1m218s\u001b[0m 835ms/step - accuracy: 0.4049 - loss: 1.9997 - val_accuracy: 0.4571 - val_loss: 1.8376 - learning_rate: 0.0010\n",
      "Epoch 7/70\n",
      "\u001b[1m261/261\u001b[0m \u001b[32m━━━━━━━━━━━━━━━━━━━━\u001b[0m\u001b[37m\u001b[0m \u001b[1m0s\u001b[0m 781ms/step - accuracy: 0.4338 - loss: 1.9546\n",
      "Epoch 7: val_accuracy improved from 0.45707 to 0.51127, saving model to best_model_augmented.h5\n"
     ]
    },
    {
     "name": "stderr",
     "output_type": "stream",
     "text": [
      "WARNING:absl:You are saving your model as an HDF5 file via `model.save()` or `keras.saving.save_model(model)`. This file format is considered legacy. We recommend using instead the native Keras format, e.g. `model.save('my_model.keras')` or `keras.saving.save_model(model, 'my_model.keras')`. \n"
     ]
    },
    {
     "name": "stdout",
     "output_type": "stream",
     "text": [
      "\u001b[1m261/261\u001b[0m \u001b[32m━━━━━━━━━━━━━━━━━━━━\u001b[0m\u001b[37m\u001b[0m \u001b[1m216s\u001b[0m 828ms/step - accuracy: 0.4339 - loss: 1.9545 - val_accuracy: 0.5113 - val_loss: 1.7724 - learning_rate: 0.0010\n",
      "Epoch 8/70\n",
      "\u001b[1m261/261\u001b[0m \u001b[32m━━━━━━━━━━━━━━━━━━━━\u001b[0m\u001b[37m\u001b[0m \u001b[1m0s\u001b[0m 782ms/step - accuracy: 0.4707 - loss: 1.8360\n",
      "Epoch 8: val_accuracy did not improve from 0.51127\n",
      "\u001b[1m261/261\u001b[0m \u001b[32m━━━━━━━━━━━━━━━━━━━━\u001b[0m\u001b[37m\u001b[0m \u001b[1m216s\u001b[0m 828ms/step - accuracy: 0.4708 - loss: 1.8360 - val_accuracy: 0.3947 - val_loss: 2.0342 - learning_rate: 0.0010\n",
      "Epoch 9/70\n",
      "\u001b[1m261/261\u001b[0m \u001b[32m━━━━━━━━━━━━━━━━━━━━\u001b[0m\u001b[37m\u001b[0m \u001b[1m0s\u001b[0m 782ms/step - accuracy: 0.5066 - loss: 1.7881\n",
      "Epoch 9: val_accuracy improved from 0.51127 to 0.52398, saving model to best_model_augmented.h5\n"
     ]
    },
    {
     "name": "stderr",
     "output_type": "stream",
     "text": [
      "WARNING:absl:You are saving your model as an HDF5 file via `model.save()` or `keras.saving.save_model(model)`. This file format is considered legacy. We recommend using instead the native Keras format, e.g. `model.save('my_model.keras')` or `keras.saving.save_model(model, 'my_model.keras')`. \n"
     ]
    },
    {
     "name": "stdout",
     "output_type": "stream",
     "text": [
      "\u001b[1m261/261\u001b[0m \u001b[32m━━━━━━━━━━━━━━━━━━━━\u001b[0m\u001b[37m\u001b[0m \u001b[1m216s\u001b[0m 829ms/step - accuracy: 0.5066 - loss: 1.7881 - val_accuracy: 0.5240 - val_loss: 1.8011 - learning_rate: 0.0010\n",
      "Epoch 10/70\n",
      "\u001b[1m261/261\u001b[0m \u001b[32m━━━━━━━━━━━━━━━━━━━━\u001b[0m\u001b[37m\u001b[0m \u001b[1m0s\u001b[0m 782ms/step - accuracy: 0.5107 - loss: 1.8258\n",
      "Epoch 10: val_accuracy did not improve from 0.52398\n",
      "\n",
      "Epoch 10: ReduceLROnPlateau reducing learning rate to 0.0005000000237487257.\n",
      "\u001b[1m261/261\u001b[0m \u001b[32m━━━━━━━━━━━━━━━━━━━━\u001b[0m\u001b[37m\u001b[0m \u001b[1m216s\u001b[0m 828ms/step - accuracy: 0.5107 - loss: 1.8258 - val_accuracy: 0.4235 - val_loss: 2.1606 - learning_rate: 0.0010\n",
      "Epoch 11/70\n",
      "\u001b[1m261/261\u001b[0m \u001b[32m━━━━━━━━━━━━━━━━━━━━\u001b[0m\u001b[37m\u001b[0m \u001b[1m0s\u001b[0m 779ms/step - accuracy: 0.5483 - loss: 1.7884\n",
      "Epoch 11: val_accuracy improved from 0.52398 to 0.59472, saving model to best_model_augmented.h5\n"
     ]
    },
    {
     "name": "stderr",
     "output_type": "stream",
     "text": [
      "WARNING:absl:You are saving your model as an HDF5 file via `model.save()` or `keras.saving.save_model(model)`. This file format is considered legacy. We recommend using instead the native Keras format, e.g. `model.save('my_model.keras')` or `keras.saving.save_model(model, 'my_model.keras')`. \n"
     ]
    },
    {
     "name": "stdout",
     "output_type": "stream",
     "text": [
      "\u001b[1m261/261\u001b[0m \u001b[32m━━━━━━━━━━━━━━━━━━━━\u001b[0m\u001b[37m\u001b[0m \u001b[1m261s\u001b[0m 825ms/step - accuracy: 0.5483 - loss: 1.7883 - val_accuracy: 0.5947 - val_loss: 1.6292 - learning_rate: 5.0000e-04\n",
      "Epoch 12/70\n",
      "\u001b[1m261/261\u001b[0m \u001b[32m━━━━━━━━━━━━━━━━━━━━\u001b[0m\u001b[37m\u001b[0m \u001b[1m0s\u001b[0m 778ms/step - accuracy: 0.5783 - loss: 1.6322\n",
      "Epoch 12: val_accuracy improved from 0.59472 to 0.60000, saving model to best_model_augmented.h5\n"
     ]
    },
    {
     "name": "stderr",
     "output_type": "stream",
     "text": [
      "WARNING:absl:You are saving your model as an HDF5 file via `model.save()` or `keras.saving.save_model(model)`. This file format is considered legacy. We recommend using instead the native Keras format, e.g. `model.save('my_model.keras')` or `keras.saving.save_model(model, 'my_model.keras')`. \n"
     ]
    },
    {
     "name": "stdout",
     "output_type": "stream",
     "text": [
      "\u001b[1m261/261\u001b[0m \u001b[32m━━━━━━━━━━━━━━━━━━━━\u001b[0m\u001b[37m\u001b[0m \u001b[1m215s\u001b[0m 825ms/step - accuracy: 0.5783 - loss: 1.6322 - val_accuracy: 0.6000 - val_loss: 1.5964 - learning_rate: 5.0000e-04\n",
      "Epoch 13/70\n",
      "\u001b[1m261/261\u001b[0m \u001b[32m━━━━━━━━━━━━━━━━━━━━\u001b[0m\u001b[37m\u001b[0m \u001b[1m0s\u001b[0m 779ms/step - accuracy: 0.5928 - loss: 1.5873\n",
      "Epoch 13: val_accuracy improved from 0.60000 to 0.62254, saving model to best_model_augmented.h5\n"
     ]
    },
    {
     "name": "stderr",
     "output_type": "stream",
     "text": [
      "WARNING:absl:You are saving your model as an HDF5 file via `model.save()` or `keras.saving.save_model(model)`. This file format is considered legacy. We recommend using instead the native Keras format, e.g. `model.save('my_model.keras')` or `keras.saving.save_model(model, 'my_model.keras')`. \n"
     ]
    },
    {
     "name": "stdout",
     "output_type": "stream",
     "text": [
      "\u001b[1m261/261\u001b[0m \u001b[32m━━━━━━━━━━━━━━━━━━━━\u001b[0m\u001b[37m\u001b[0m \u001b[1m216s\u001b[0m 826ms/step - accuracy: 0.5928 - loss: 1.5873 - val_accuracy: 0.6225 - val_loss: 1.5025 - learning_rate: 5.0000e-04\n",
      "Epoch 14/70\n",
      "\u001b[1m261/261\u001b[0m \u001b[32m━━━━━━━━━━━━━━━━━━━━\u001b[0m\u001b[37m\u001b[0m \u001b[1m0s\u001b[0m 779ms/step - accuracy: 0.6160 - loss: 1.5445\n",
      "Epoch 14: val_accuracy did not improve from 0.62254\n",
      "\u001b[1m261/261\u001b[0m \u001b[32m━━━━━━━━━━━━━━━━━━━━\u001b[0m\u001b[37m\u001b[0m \u001b[1m262s\u001b[0m 825ms/step - accuracy: 0.6160 - loss: 1.5445 - val_accuracy: 0.6218 - val_loss: 1.5321 - learning_rate: 5.0000e-04\n",
      "Epoch 15/70\n",
      "\u001b[1m261/261\u001b[0m \u001b[32m━━━━━━━━━━━━━━━━━━━━\u001b[0m\u001b[37m\u001b[0m \u001b[1m0s\u001b[0m 779ms/step - accuracy: 0.6260 - loss: 1.5294\n",
      "Epoch 15: val_accuracy improved from 0.62254 to 0.62950, saving model to best_model_augmented.h5\n"
     ]
    },
    {
     "name": "stderr",
     "output_type": "stream",
     "text": [
      "WARNING:absl:You are saving your model as an HDF5 file via `model.save()` or `keras.saving.save_model(model)`. This file format is considered legacy. We recommend using instead the native Keras format, e.g. `model.save('my_model.keras')` or `keras.saving.save_model(model, 'my_model.keras')`. \n"
     ]
    },
    {
     "name": "stdout",
     "output_type": "stream",
     "text": [
      "\u001b[1m261/261\u001b[0m \u001b[32m━━━━━━━━━━━━━━━━━━━━\u001b[0m\u001b[37m\u001b[0m \u001b[1m262s\u001b[0m 825ms/step - accuracy: 0.6259 - loss: 1.5296 - val_accuracy: 0.6295 - val_loss: 1.5466 - learning_rate: 5.0000e-04\n",
      "Epoch 16/70\n",
      "\u001b[1m261/261\u001b[0m \u001b[32m━━━━━━━━━━━━━━━━━━━━\u001b[0m\u001b[37m\u001b[0m \u001b[1m0s\u001b[0m 779ms/step - accuracy: 0.6299 - loss: 1.5599\n",
      "Epoch 16: val_accuracy did not improve from 0.62950\n",
      "\n",
      "Epoch 16: ReduceLROnPlateau reducing learning rate to 0.0002500000118743628.\n",
      "\u001b[1m261/261\u001b[0m \u001b[32m━━━━━━━━━━━━━━━━━━━━\u001b[0m\u001b[37m\u001b[0m \u001b[1m215s\u001b[0m 825ms/step - accuracy: 0.6299 - loss: 1.5598 - val_accuracy: 0.6146 - val_loss: 1.5943 - learning_rate: 5.0000e-04\n",
      "Epoch 17/70\n",
      "\u001b[1m261/261\u001b[0m \u001b[32m━━━━━━━━━━━━━━━━━━━━\u001b[0m\u001b[37m\u001b[0m \u001b[1m0s\u001b[0m 780ms/step - accuracy: 0.6529 - loss: 1.4738\n",
      "Epoch 17: val_accuracy improved from 0.62950 to 0.67434, saving model to best_model_augmented.h5\n"
     ]
    },
    {
     "name": "stderr",
     "output_type": "stream",
     "text": [
      "WARNING:absl:You are saving your model as an HDF5 file via `model.save()` or `keras.saving.save_model(model)`. This file format is considered legacy. We recommend using instead the native Keras format, e.g. `model.save('my_model.keras')` or `keras.saving.save_model(model, 'my_model.keras')`. \n"
     ]
    },
    {
     "name": "stdout",
     "output_type": "stream",
     "text": [
      "\u001b[1m261/261\u001b[0m \u001b[32m━━━━━━━━━━━━━━━━━━━━\u001b[0m\u001b[37m\u001b[0m \u001b[1m216s\u001b[0m 826ms/step - accuracy: 0.6529 - loss: 1.4737 - val_accuracy: 0.6743 - val_loss: 1.3707 - learning_rate: 2.5000e-04\n",
      "Epoch 18/70\n",
      "\u001b[1m261/261\u001b[0m \u001b[32m━━━━━━━━━━━━━━━━━━━━\u001b[0m\u001b[37m\u001b[0m \u001b[1m0s\u001b[0m 780ms/step - accuracy: 0.6777 - loss: 1.3723\n",
      "Epoch 18: val_accuracy improved from 0.67434 to 0.70983, saving model to best_model_augmented.h5\n"
     ]
    },
    {
     "name": "stderr",
     "output_type": "stream",
     "text": [
      "WARNING:absl:You are saving your model as an HDF5 file via `model.save()` or `keras.saving.save_model(model)`. This file format is considered legacy. We recommend using instead the native Keras format, e.g. `model.save('my_model.keras')` or `keras.saving.save_model(model, 'my_model.keras')`. \n"
     ]
    },
    {
     "name": "stdout",
     "output_type": "stream",
     "text": [
      "\u001b[1m261/261\u001b[0m \u001b[32m━━━━━━━━━━━━━━━━━━━━\u001b[0m\u001b[37m\u001b[0m \u001b[1m262s\u001b[0m 826ms/step - accuracy: 0.6777 - loss: 1.3723 - val_accuracy: 0.7098 - val_loss: 1.2641 - learning_rate: 2.5000e-04\n",
      "Epoch 19/70\n",
      "\u001b[1m261/261\u001b[0m \u001b[32m━━━━━━━━━━━━━━━━━━━━\u001b[0m\u001b[37m\u001b[0m \u001b[1m0s\u001b[0m 779ms/step - accuracy: 0.6826 - loss: 1.3241\n",
      "Epoch 19: val_accuracy did not improve from 0.70983\n",
      "\u001b[1m261/261\u001b[0m \u001b[32m━━━━━━━━━━━━━━━━━━━━\u001b[0m\u001b[37m\u001b[0m \u001b[1m262s\u001b[0m 826ms/step - accuracy: 0.6826 - loss: 1.3241 - val_accuracy: 0.7055 - val_loss: 1.2575 - learning_rate: 2.5000e-04\n",
      "Epoch 20/70\n",
      "\u001b[1m261/261\u001b[0m \u001b[32m━━━━━━━━━━━━━━━━━━━━\u001b[0m\u001b[37m\u001b[0m \u001b[1m0s\u001b[0m 781ms/step - accuracy: 0.6911 - loss: 1.2912\n",
      "Epoch 20: val_accuracy did not improve from 0.70983\n",
      "\u001b[1m261/261\u001b[0m \u001b[32m━━━━━━━━━━━━━━━━━━━━\u001b[0m\u001b[37m\u001b[0m \u001b[1m262s\u001b[0m 827ms/step - accuracy: 0.6911 - loss: 1.2912 - val_accuracy: 0.6894 - val_loss: 1.2987 - learning_rate: 2.5000e-04\n",
      "Epoch 21/70\n",
      "\u001b[1m261/261\u001b[0m \u001b[32m━━━━━━━━━━━━━━━━━━━━\u001b[0m\u001b[37m\u001b[0m \u001b[1m0s\u001b[0m 784ms/step - accuracy: 0.6915 - loss: 1.2664\n",
      "Epoch 21: val_accuracy improved from 0.70983 to 0.71511, saving model to best_model_augmented.h5\n"
     ]
    },
    {
     "name": "stderr",
     "output_type": "stream",
     "text": [
      "WARNING:absl:You are saving your model as an HDF5 file via `model.save()` or `keras.saving.save_model(model)`. This file format is considered legacy. We recommend using instead the native Keras format, e.g. `model.save('my_model.keras')` or `keras.saving.save_model(model, 'my_model.keras')`. \n"
     ]
    },
    {
     "name": "stdout",
     "output_type": "stream",
     "text": [
      "\u001b[1m261/261\u001b[0m \u001b[32m━━━━━━━━━━━━━━━━━━━━\u001b[0m\u001b[37m\u001b[0m \u001b[1m217s\u001b[0m 830ms/step - accuracy: 0.6915 - loss: 1.2663 - val_accuracy: 0.7151 - val_loss: 1.2148 - learning_rate: 2.5000e-04\n",
      "Epoch 22/70\n",
      "\u001b[1m261/261\u001b[0m \u001b[32m━━━━━━━━━━━━━━━━━━━━\u001b[0m\u001b[37m\u001b[0m \u001b[1m0s\u001b[0m 780ms/step - accuracy: 0.7029 - loss: 1.2272\n",
      "Epoch 22: val_accuracy improved from 0.71511 to 0.73405, saving model to best_model_augmented.h5\n"
     ]
    },
    {
     "name": "stderr",
     "output_type": "stream",
     "text": [
      "WARNING:absl:You are saving your model as an HDF5 file via `model.save()` or `keras.saving.save_model(model)`. This file format is considered legacy. We recommend using instead the native Keras format, e.g. `model.save('my_model.keras')` or `keras.saving.save_model(model, 'my_model.keras')`. \n"
     ]
    },
    {
     "name": "stdout",
     "output_type": "stream",
     "text": [
      "\u001b[1m261/261\u001b[0m \u001b[32m━━━━━━━━━━━━━━━━━━━━\u001b[0m\u001b[37m\u001b[0m \u001b[1m216s\u001b[0m 827ms/step - accuracy: 0.7029 - loss: 1.2272 - val_accuracy: 0.7341 - val_loss: 1.1510 - learning_rate: 2.5000e-04\n",
      "Epoch 23/70\n",
      "\u001b[1m261/261\u001b[0m \u001b[32m━━━━━━━━━━━━━━━━━━━━\u001b[0m\u001b[37m\u001b[0m \u001b[1m0s\u001b[0m 780ms/step - accuracy: 0.7097 - loss: 1.2183\n",
      "Epoch 23: val_accuracy did not improve from 0.73405\n",
      "\u001b[1m261/261\u001b[0m \u001b[32m━━━━━━━━━━━━━━━━━━━━\u001b[0m\u001b[37m\u001b[0m \u001b[1m216s\u001b[0m 826ms/step - accuracy: 0.7097 - loss: 1.2183 - val_accuracy: 0.7213 - val_loss: 1.1782 - learning_rate: 2.5000e-04\n",
      "Epoch 24/70\n",
      "\u001b[1m261/261\u001b[0m \u001b[32m━━━━━━━━━━━━━━━━━━━━\u001b[0m\u001b[37m\u001b[0m \u001b[1m0s\u001b[0m 780ms/step - accuracy: 0.7082 - loss: 1.2078\n",
      "Epoch 24: val_accuracy did not improve from 0.73405\n",
      "\u001b[1m261/261\u001b[0m \u001b[32m━━━━━━━━━━━━━━━━━━━━\u001b[0m\u001b[37m\u001b[0m \u001b[1m216s\u001b[0m 826ms/step - accuracy: 0.7082 - loss: 1.2079 - val_accuracy: 0.7283 - val_loss: 1.1721 - learning_rate: 2.5000e-04\n",
      "Epoch 25/70\n",
      "\u001b[1m261/261\u001b[0m \u001b[32m━━━━━━━━━━━━━━━━━━━━\u001b[0m\u001b[37m\u001b[0m \u001b[1m0s\u001b[0m 780ms/step - accuracy: 0.7084 - loss: 1.2108\n",
      "Epoch 25: val_accuracy did not improve from 0.73405\n",
      "\n",
      "Epoch 25: ReduceLROnPlateau reducing learning rate to 0.0001250000059371814.\n",
      "\u001b[1m261/261\u001b[0m \u001b[32m━━━━━━━━━━━━━━━━━━━━\u001b[0m\u001b[37m\u001b[0m \u001b[1m216s\u001b[0m 825ms/step - accuracy: 0.7084 - loss: 1.2108 - val_accuracy: 0.7235 - val_loss: 1.1870 - learning_rate: 2.5000e-04\n",
      "Epoch 26/70\n",
      "\u001b[1m261/261\u001b[0m \u001b[32m━━━━━━━━━━━━━━━━━━━━\u001b[0m\u001b[37m\u001b[0m \u001b[1m0s\u001b[0m 783ms/step - accuracy: 0.7310 - loss: 1.1569\n",
      "Epoch 26: val_accuracy did not improve from 0.73405\n",
      "\u001b[1m261/261\u001b[0m \u001b[32m━━━━━━━━━━━━━━━━━━━━\u001b[0m\u001b[37m\u001b[0m \u001b[1m263s\u001b[0m 828ms/step - accuracy: 0.7310 - loss: 1.1569 - val_accuracy: 0.7307 - val_loss: 1.1451 - learning_rate: 1.2500e-04\n",
      "Epoch 27/70\n",
      "\u001b[1m261/261\u001b[0m \u001b[32m━━━━━━━━━━━━━━━━━━━━\u001b[0m\u001b[37m\u001b[0m \u001b[1m0s\u001b[0m 778ms/step - accuracy: 0.7427 - loss: 1.1164\n",
      "Epoch 27: val_accuracy did not improve from 0.73405\n",
      "\u001b[1m261/261\u001b[0m \u001b[32m━━━━━━━━━━━━━━━━━━━━\u001b[0m\u001b[37m\u001b[0m \u001b[1m261s\u001b[0m 824ms/step - accuracy: 0.7427 - loss: 1.1164 - val_accuracy: 0.7223 - val_loss: 1.1149 - learning_rate: 1.2500e-04\n",
      "Epoch 28/70\n",
      "\u001b[1m261/261\u001b[0m \u001b[32m━━━━━━━━━━━━━━━━━━━━\u001b[0m\u001b[37m\u001b[0m \u001b[1m0s\u001b[0m 780ms/step - accuracy: 0.7431 - loss: 1.0876\n",
      "Epoch 28: val_accuracy did not improve from 0.73405\n",
      "\u001b[1m261/261\u001b[0m \u001b[32m━━━━━━━━━━━━━━━━━━━━\u001b[0m\u001b[37m\u001b[0m \u001b[1m263s\u001b[0m 826ms/step - accuracy: 0.7431 - loss: 1.0876 - val_accuracy: 0.7197 - val_loss: 1.1421 - learning_rate: 1.2500e-04\n",
      "Epoch 29/70\n",
      "\u001b[1m261/261\u001b[0m \u001b[32m━━━━━━━━━━━━━━━━━━━━\u001b[0m\u001b[37m\u001b[0m \u001b[1m0s\u001b[0m 782ms/step - accuracy: 0.7459 - loss: 1.0726\n",
      "Epoch 29: val_accuracy improved from 0.73405 to 0.74197, saving model to best_model_augmented.h5\n"
     ]
    },
    {
     "name": "stderr",
     "output_type": "stream",
     "text": [
      "WARNING:absl:You are saving your model as an HDF5 file via `model.save()` or `keras.saving.save_model(model)`. This file format is considered legacy. We recommend using instead the native Keras format, e.g. `model.save('my_model.keras')` or `keras.saving.save_model(model, 'my_model.keras')`. \n"
     ]
    },
    {
     "name": "stdout",
     "output_type": "stream",
     "text": [
      "\u001b[1m261/261\u001b[0m \u001b[32m━━━━━━━━━━━━━━━━━━━━\u001b[0m\u001b[37m\u001b[0m \u001b[1m216s\u001b[0m 828ms/step - accuracy: 0.7458 - loss: 1.0726 - val_accuracy: 0.7420 - val_loss: 1.0702 - learning_rate: 1.2500e-04\n",
      "Epoch 30/70\n",
      "\u001b[1m261/261\u001b[0m \u001b[32m━━━━━━━━━━━━━━━━━━━━\u001b[0m\u001b[37m\u001b[0m \u001b[1m0s\u001b[0m 779ms/step - accuracy: 0.7583 - loss: 1.0302\n",
      "Epoch 30: val_accuracy improved from 0.74197 to 0.75995, saving model to best_model_augmented.h5\n"
     ]
    },
    {
     "name": "stderr",
     "output_type": "stream",
     "text": [
      "WARNING:absl:You are saving your model as an HDF5 file via `model.save()` or `keras.saving.save_model(model)`. This file format is considered legacy. We recommend using instead the native Keras format, e.g. `model.save('my_model.keras')` or `keras.saving.save_model(model, 'my_model.keras')`. \n"
     ]
    },
    {
     "name": "stdout",
     "output_type": "stream",
     "text": [
      "\u001b[1m261/261\u001b[0m \u001b[32m━━━━━━━━━━━━━━━━━━━━\u001b[0m\u001b[37m\u001b[0m \u001b[1m216s\u001b[0m 826ms/step - accuracy: 0.7583 - loss: 1.0302 - val_accuracy: 0.7600 - val_loss: 1.0214 - learning_rate: 1.2500e-04\n",
      "Epoch 31/70\n",
      "\u001b[1m261/261\u001b[0m \u001b[32m━━━━━━━━━━━━━━━━━━━━\u001b[0m\u001b[37m\u001b[0m \u001b[1m0s\u001b[0m 782ms/step - accuracy: 0.7535 - loss: 1.0248\n",
      "Epoch 31: val_accuracy did not improve from 0.75995\n",
      "\u001b[1m261/261\u001b[0m \u001b[32m━━━━━━━━━━━━━━━━━━━━\u001b[0m\u001b[37m\u001b[0m \u001b[1m216s\u001b[0m 828ms/step - accuracy: 0.7535 - loss: 1.0249 - val_accuracy: 0.7405 - val_loss: 1.0515 - learning_rate: 1.2500e-04\n",
      "Epoch 32/70\n",
      "\u001b[1m261/261\u001b[0m \u001b[32m━━━━━━━━━━━━━━━━━━━━\u001b[0m\u001b[37m\u001b[0m \u001b[1m0s\u001b[0m 780ms/step - accuracy: 0.7395 - loss: 1.0258\n",
      "Epoch 32: val_accuracy did not improve from 0.75995\n",
      "\u001b[1m261/261\u001b[0m \u001b[32m━━━━━━━━━━━━━━━━━━━━\u001b[0m\u001b[37m\u001b[0m \u001b[1m262s\u001b[0m 826ms/step - accuracy: 0.7395 - loss: 1.0257 - val_accuracy: 0.7463 - val_loss: 1.0287 - learning_rate: 1.2500e-04\n",
      "Epoch 33/70\n",
      "\u001b[1m261/261\u001b[0m \u001b[32m━━━━━━━━━━━━━━━━━━━━\u001b[0m\u001b[37m\u001b[0m \u001b[1m0s\u001b[0m 780ms/step - accuracy: 0.7578 - loss: 1.0009\n",
      "Epoch 33: val_accuracy did not improve from 0.75995\n",
      "\n",
      "Epoch 33: ReduceLROnPlateau reducing learning rate to 6.25000029685907e-05.\n",
      "\u001b[1m261/261\u001b[0m \u001b[32m━━━━━━━━━━━━━━━━━━━━\u001b[0m\u001b[37m\u001b[0m \u001b[1m216s\u001b[0m 826ms/step - accuracy: 0.7578 - loss: 1.0009 - val_accuracy: 0.7403 - val_loss: 1.0348 - learning_rate: 1.2500e-04\n",
      "Epoch 34/70\n",
      "\u001b[1m261/261\u001b[0m \u001b[32m━━━━━━━━━━━━━━━━━━━━\u001b[0m\u001b[37m\u001b[0m \u001b[1m0s\u001b[0m 779ms/step - accuracy: 0.7646 - loss: 0.9635\n",
      "Epoch 34: val_accuracy improved from 0.75995 to 0.76019, saving model to best_model_augmented.h5\n"
     ]
    },
    {
     "name": "stderr",
     "output_type": "stream",
     "text": [
      "WARNING:absl:You are saving your model as an HDF5 file via `model.save()` or `keras.saving.save_model(model)`. This file format is considered legacy. We recommend using instead the native Keras format, e.g. `model.save('my_model.keras')` or `keras.saving.save_model(model, 'my_model.keras')`. \n"
     ]
    },
    {
     "name": "stdout",
     "output_type": "stream",
     "text": [
      "\u001b[1m261/261\u001b[0m \u001b[32m━━━━━━━━━━━━━━━━━━━━\u001b[0m\u001b[37m\u001b[0m \u001b[1m262s\u001b[0m 826ms/step - accuracy: 0.7646 - loss: 0.9635 - val_accuracy: 0.7602 - val_loss: 0.9780 - learning_rate: 6.2500e-05\n",
      "Epoch 35/70\n",
      "\u001b[1m261/261\u001b[0m \u001b[32m━━━━━━━━━━━━━━━━━━━━\u001b[0m\u001b[37m\u001b[0m \u001b[1m0s\u001b[0m 780ms/step - accuracy: 0.7686 - loss: 0.9538\n",
      "Epoch 35: val_accuracy did not improve from 0.76019\n",
      "\u001b[1m261/261\u001b[0m \u001b[32m━━━━━━━━━━━━━━━━━━━━\u001b[0m\u001b[37m\u001b[0m \u001b[1m216s\u001b[0m 826ms/step - accuracy: 0.7686 - loss: 0.9538 - val_accuracy: 0.7602 - val_loss: 0.9797 - learning_rate: 6.2500e-05\n",
      "Epoch 36/70\n",
      "\u001b[1m261/261\u001b[0m \u001b[32m━━━━━━━━━━━━━━━━━━━━\u001b[0m\u001b[37m\u001b[0m \u001b[1m0s\u001b[0m 781ms/step - accuracy: 0.7771 - loss: 0.9320\n",
      "Epoch 36: val_accuracy did not improve from 0.76019\n",
      "\u001b[1m261/261\u001b[0m \u001b[32m━━━━━━━━━━━━━━━━━━━━\u001b[0m\u001b[37m\u001b[0m \u001b[1m216s\u001b[0m 827ms/step - accuracy: 0.7771 - loss: 0.9320 - val_accuracy: 0.7590 - val_loss: 0.9727 - learning_rate: 6.2500e-05\n",
      "Epoch 37/70\n",
      "\u001b[1m261/261\u001b[0m \u001b[32m━━━━━━━━━━━━━━━━━━━━\u001b[0m\u001b[37m\u001b[0m \u001b[1m0s\u001b[0m 781ms/step - accuracy: 0.7773 - loss: 0.9200\n",
      "Epoch 37: val_accuracy improved from 0.76019 to 0.76091, saving model to best_model_augmented.h5\n"
     ]
    },
    {
     "name": "stderr",
     "output_type": "stream",
     "text": [
      "WARNING:absl:You are saving your model as an HDF5 file via `model.save()` or `keras.saving.save_model(model)`. This file format is considered legacy. We recommend using instead the native Keras format, e.g. `model.save('my_model.keras')` or `keras.saving.save_model(model, 'my_model.keras')`. \n"
     ]
    },
    {
     "name": "stdout",
     "output_type": "stream",
     "text": [
      "\u001b[1m261/261\u001b[0m \u001b[32m━━━━━━━━━━━━━━━━━━━━\u001b[0m\u001b[37m\u001b[0m \u001b[1m216s\u001b[0m 828ms/step - accuracy: 0.7773 - loss: 0.9200 - val_accuracy: 0.7609 - val_loss: 0.9730 - learning_rate: 6.2500e-05\n",
      "Epoch 38/70\n",
      "\u001b[1m261/261\u001b[0m \u001b[32m━━━━━━━━━━━━━━━━━━━━\u001b[0m\u001b[37m\u001b[0m \u001b[1m0s\u001b[0m 780ms/step - accuracy: 0.7778 - loss: 0.9192\n",
      "Epoch 38: val_accuracy improved from 0.76091 to 0.76451, saving model to best_model_augmented.h5\n"
     ]
    },
    {
     "name": "stderr",
     "output_type": "stream",
     "text": [
      "WARNING:absl:You are saving your model as an HDF5 file via `model.save()` or `keras.saving.save_model(model)`. This file format is considered legacy. We recommend using instead the native Keras format, e.g. `model.save('my_model.keras')` or `keras.saving.save_model(model, 'my_model.keras')`. \n"
     ]
    },
    {
     "name": "stdout",
     "output_type": "stream",
     "text": [
      "\u001b[1m261/261\u001b[0m \u001b[32m━━━━━━━━━━━━━━━━━━━━\u001b[0m\u001b[37m\u001b[0m \u001b[1m262s\u001b[0m 826ms/step - accuracy: 0.7778 - loss: 0.9191 - val_accuracy: 0.7645 - val_loss: 0.9459 - learning_rate: 6.2500e-05\n",
      "Epoch 39/70\n",
      "\u001b[1m261/261\u001b[0m \u001b[32m━━━━━━━━━━━━━━━━━━━━\u001b[0m\u001b[37m\u001b[0m \u001b[1m0s\u001b[0m 779ms/step - accuracy: 0.7692 - loss: 0.9187\n",
      "Epoch 39: val_accuracy did not improve from 0.76451\n",
      "\u001b[1m261/261\u001b[0m \u001b[32m━━━━━━━━━━━━━━━━━━━━\u001b[0m\u001b[37m\u001b[0m \u001b[1m262s\u001b[0m 825ms/step - accuracy: 0.7693 - loss: 0.9186 - val_accuracy: 0.7602 - val_loss: 0.9509 - learning_rate: 6.2500e-05\n",
      "Epoch 40/70\n",
      "\u001b[1m261/261\u001b[0m \u001b[32m━━━━━━━━━━━━━━━━━━━━\u001b[0m\u001b[37m\u001b[0m \u001b[1m0s\u001b[0m 781ms/step - accuracy: 0.7801 - loss: 0.8907\n",
      "Epoch 40: val_accuracy did not improve from 0.76451\n",
      "\u001b[1m261/261\u001b[0m \u001b[32m━━━━━━━━━━━━━━━━━━━━\u001b[0m\u001b[37m\u001b[0m \u001b[1m263s\u001b[0m 827ms/step - accuracy: 0.7801 - loss: 0.8908 - val_accuracy: 0.7444 - val_loss: 0.9917 - learning_rate: 6.2500e-05\n",
      "Epoch 41/70\n",
      "\u001b[1m261/261\u001b[0m \u001b[32m━━━━━━━━━━━━━━━━━━━━\u001b[0m\u001b[37m\u001b[0m \u001b[1m0s\u001b[0m 779ms/step - accuracy: 0.7827 - loss: 0.8799\n",
      "Epoch 41: val_accuracy did not improve from 0.76451\n",
      "\n",
      "Epoch 41: ReduceLROnPlateau reducing learning rate to 3.125000148429535e-05.\n",
      "\u001b[1m261/261\u001b[0m \u001b[32m━━━━━━━━━━━━━━━━━━━━\u001b[0m\u001b[37m\u001b[0m \u001b[1m215s\u001b[0m 825ms/step - accuracy: 0.7827 - loss: 0.8800 - val_accuracy: 0.7614 - val_loss: 0.9478 - learning_rate: 6.2500e-05\n",
      "Epoch 42/70\n",
      "\u001b[1m261/261\u001b[0m \u001b[32m━━━━━━━━━━━━━━━━━━━━\u001b[0m\u001b[37m\u001b[0m \u001b[1m0s\u001b[0m 788ms/step - accuracy: 0.7888 - loss: 0.8656\n",
      "Epoch 42: val_accuracy improved from 0.76451 to 0.76571, saving model to best_model_augmented.h5\n"
     ]
    },
    {
     "name": "stderr",
     "output_type": "stream",
     "text": [
      "WARNING:absl:You are saving your model as an HDF5 file via `model.save()` or `keras.saving.save_model(model)`. This file format is considered legacy. We recommend using instead the native Keras format, e.g. `model.save('my_model.keras')` or `keras.saving.save_model(model, 'my_model.keras')`. \n"
     ]
    },
    {
     "name": "stdout",
     "output_type": "stream",
     "text": [
      "\u001b[1m261/261\u001b[0m \u001b[32m━━━━━━━━━━━━━━━━━━━━\u001b[0m\u001b[37m\u001b[0m \u001b[1m264s\u001b[0m 834ms/step - accuracy: 0.7888 - loss: 0.8657 - val_accuracy: 0.7657 - val_loss: 0.9264 - learning_rate: 3.1250e-05\n",
      "Epoch 43/70\n",
      "\u001b[1m261/261\u001b[0m \u001b[32m━━━━━━━━━━━━━━━━━━━━\u001b[0m\u001b[37m\u001b[0m \u001b[1m0s\u001b[0m 780ms/step - accuracy: 0.7903 - loss: 0.8602\n",
      "Epoch 43: val_accuracy did not improve from 0.76571\n",
      "\u001b[1m261/261\u001b[0m \u001b[32m━━━━━━━━━━━━━━━━━━━━\u001b[0m\u001b[37m\u001b[0m \u001b[1m216s\u001b[0m 826ms/step - accuracy: 0.7903 - loss: 0.8602 - val_accuracy: 0.7595 - val_loss: 0.9471 - learning_rate: 3.1250e-05\n",
      "Epoch 44/70\n",
      "\u001b[1m261/261\u001b[0m \u001b[32m━━━━━━━━━━━━━━━━━━━━\u001b[0m\u001b[37m\u001b[0m \u001b[1m0s\u001b[0m 780ms/step - accuracy: 0.7917 - loss: 0.8592\n",
      "Epoch 44: val_accuracy did not improve from 0.76571\n",
      "\u001b[1m261/261\u001b[0m \u001b[32m━━━━━━━━━━━━━━━━━━━━\u001b[0m\u001b[37m\u001b[0m \u001b[1m262s\u001b[0m 826ms/step - accuracy: 0.7917 - loss: 0.8592 - val_accuracy: 0.7640 - val_loss: 0.9350 - learning_rate: 3.1250e-05\n",
      "Epoch 45/70\n",
      "\u001b[1m261/261\u001b[0m \u001b[32m━━━━━━━━━━━━━━━━━━━━\u001b[0m\u001b[37m\u001b[0m \u001b[1m0s\u001b[0m 780ms/step - accuracy: 0.7915 - loss: 0.8506\n",
      "Epoch 45: val_accuracy did not improve from 0.76571\n",
      "\n",
      "Epoch 45: ReduceLROnPlateau reducing learning rate to 1.5625000742147677e-05.\n",
      "\u001b[1m261/261\u001b[0m \u001b[32m━━━━━━━━━━━━━━━━━━━━\u001b[0m\u001b[37m\u001b[0m \u001b[1m262s\u001b[0m 825ms/step - accuracy: 0.7915 - loss: 0.8506 - val_accuracy: 0.7638 - val_loss: 0.9438 - learning_rate: 3.1250e-05\n",
      "Epoch 46/70\n",
      "\u001b[1m261/261\u001b[0m \u001b[32m━━━━━━━━━━━━━━━━━━━━\u001b[0m\u001b[37m\u001b[0m \u001b[1m0s\u001b[0m 781ms/step - accuracy: 0.7963 - loss: 0.8353\n",
      "Epoch 46: val_accuracy improved from 0.76571 to 0.76906, saving model to best_model_augmented.h5\n"
     ]
    },
    {
     "name": "stderr",
     "output_type": "stream",
     "text": [
      "WARNING:absl:You are saving your model as an HDF5 file via `model.save()` or `keras.saving.save_model(model)`. This file format is considered legacy. We recommend using instead the native Keras format, e.g. `model.save('my_model.keras')` or `keras.saving.save_model(model, 'my_model.keras')`. \n"
     ]
    },
    {
     "name": "stdout",
     "output_type": "stream",
     "text": [
      "\u001b[1m261/261\u001b[0m \u001b[32m━━━━━━━━━━━━━━━━━━━━\u001b[0m\u001b[37m\u001b[0m \u001b[1m216s\u001b[0m 827ms/step - accuracy: 0.7963 - loss: 0.8354 - val_accuracy: 0.7691 - val_loss: 0.9102 - learning_rate: 1.5625e-05\n",
      "Epoch 47/70\n",
      "\u001b[1m261/261\u001b[0m \u001b[32m━━━━━━━━━━━━━━━━━━━━\u001b[0m\u001b[37m\u001b[0m \u001b[1m0s\u001b[0m 779ms/step - accuracy: 0.7972 - loss: 0.8343\n",
      "Epoch 47: val_accuracy did not improve from 0.76906\n",
      "\u001b[1m261/261\u001b[0m \u001b[32m━━━━━━━━━━━━━━━━━━━━\u001b[0m\u001b[37m\u001b[0m \u001b[1m215s\u001b[0m 824ms/step - accuracy: 0.7972 - loss: 0.8343 - val_accuracy: 0.7688 - val_loss: 0.9181 - learning_rate: 1.5625e-05\n",
      "Epoch 48/70\n",
      "\u001b[1m261/261\u001b[0m \u001b[32m━━━━━━━━━━━━━━━━━━━━\u001b[0m\u001b[37m\u001b[0m \u001b[1m0s\u001b[0m 779ms/step - accuracy: 0.7957 - loss: 0.8310\n",
      "Epoch 48: val_accuracy improved from 0.76906 to 0.77026, saving model to best_model_augmented.h5\n"
     ]
    },
    {
     "name": "stderr",
     "output_type": "stream",
     "text": [
      "WARNING:absl:You are saving your model as an HDF5 file via `model.save()` or `keras.saving.save_model(model)`. This file format is considered legacy. We recommend using instead the native Keras format, e.g. `model.save('my_model.keras')` or `keras.saving.save_model(model, 'my_model.keras')`. \n"
     ]
    },
    {
     "name": "stdout",
     "output_type": "stream",
     "text": [
      "\u001b[1m261/261\u001b[0m \u001b[32m━━━━━━━━━━━━━━━━━━━━\u001b[0m\u001b[37m\u001b[0m \u001b[1m216s\u001b[0m 825ms/step - accuracy: 0.7957 - loss: 0.8310 - val_accuracy: 0.7703 - val_loss: 0.8989 - learning_rate: 1.5625e-05\n",
      "Epoch 49/70\n",
      "\u001b[1m261/261\u001b[0m \u001b[32m━━━━━━━━━━━━━━━━━━━━\u001b[0m\u001b[37m\u001b[0m \u001b[1m0s\u001b[0m 779ms/step - accuracy: 0.7974 - loss: 0.8175\n",
      "Epoch 49: val_accuracy did not improve from 0.77026\n",
      "\u001b[1m261/261\u001b[0m \u001b[32m━━━━━━━━━━━━━━━━━━━━\u001b[0m\u001b[37m\u001b[0m \u001b[1m216s\u001b[0m 825ms/step - accuracy: 0.7974 - loss: 0.8176 - val_accuracy: 0.7703 - val_loss: 0.9176 - learning_rate: 1.5625e-05\n",
      "Epoch 50/70\n",
      "\u001b[1m261/261\u001b[0m \u001b[32m━━━━━━━━━━━━━━━━━━━━\u001b[0m\u001b[37m\u001b[0m \u001b[1m0s\u001b[0m 789ms/step - accuracy: 0.7970 - loss: 0.8297\n",
      "Epoch 50: val_accuracy did not improve from 0.77026\n",
      "\u001b[1m261/261\u001b[0m \u001b[32m━━━━━━━━━━━━━━━━━━━━\u001b[0m\u001b[37m\u001b[0m \u001b[1m218s\u001b[0m 834ms/step - accuracy: 0.7971 - loss: 0.8297 - val_accuracy: 0.7683 - val_loss: 0.9093 - learning_rate: 1.5625e-05\n",
      "Epoch 51/70\n",
      "\u001b[1m261/261\u001b[0m \u001b[32m━━━━━━━━━━━━━━━━━━━━\u001b[0m\u001b[37m\u001b[0m \u001b[1m0s\u001b[0m 780ms/step - accuracy: 0.7929 - loss: 0.8255\n",
      "Epoch 51: val_accuracy did not improve from 0.77026\n",
      "\n",
      "Epoch 51: ReduceLROnPlateau reducing learning rate to 7.812500371073838e-06.\n",
      "\u001b[1m261/261\u001b[0m \u001b[32m━━━━━━━━━━━━━━━━━━━━\u001b[0m\u001b[37m\u001b[0m \u001b[1m260s\u001b[0m 825ms/step - accuracy: 0.7929 - loss: 0.8256 - val_accuracy: 0.7671 - val_loss: 0.9138 - learning_rate: 1.5625e-05\n",
      "Epoch 52/70\n",
      "\u001b[1m261/261\u001b[0m \u001b[32m━━━━━━━━━━━━━━━━━━━━\u001b[0m\u001b[37m\u001b[0m \u001b[1m0s\u001b[0m 781ms/step - accuracy: 0.7996 - loss: 0.8103\n",
      "Epoch 52: val_accuracy did not improve from 0.77026\n",
      "\u001b[1m261/261\u001b[0m \u001b[32m━━━━━━━━━━━━━━━━━━━━\u001b[0m\u001b[37m\u001b[0m \u001b[1m216s\u001b[0m 827ms/step - accuracy: 0.7996 - loss: 0.8103 - val_accuracy: 0.7671 - val_loss: 0.9071 - learning_rate: 7.8125e-06\n",
      "Epoch 53/70\n",
      "\u001b[1m261/261\u001b[0m \u001b[32m━━━━━━━━━━━━━━━━━━━━\u001b[0m\u001b[37m\u001b[0m \u001b[1m0s\u001b[0m 781ms/step - accuracy: 0.7995 - loss: 0.8152\n",
      "Epoch 53: val_accuracy did not improve from 0.77026\n",
      "\u001b[1m261/261\u001b[0m \u001b[32m━━━━━━━━━━━━━━━━━━━━\u001b[0m\u001b[37m\u001b[0m \u001b[1m216s\u001b[0m 827ms/step - accuracy: 0.7995 - loss: 0.8152 - val_accuracy: 0.7676 - val_loss: 0.9055 - learning_rate: 7.8125e-06\n",
      "Epoch 54/70\n",
      "\u001b[1m261/261\u001b[0m \u001b[32m━━━━━━━━━━━━━━━━━━━━\u001b[0m\u001b[37m\u001b[0m \u001b[1m0s\u001b[0m 781ms/step - accuracy: 0.7958 - loss: 0.8188\n",
      "Epoch 54: val_accuracy did not improve from 0.77026\n",
      "\n",
      "Epoch 54: ReduceLROnPlateau reducing learning rate to 3.906250185536919e-06.\n",
      "\u001b[1m261/261\u001b[0m \u001b[32m━━━━━━━━━━━━━━━━━━━━\u001b[0m\u001b[37m\u001b[0m \u001b[1m216s\u001b[0m 827ms/step - accuracy: 0.7958 - loss: 0.8188 - val_accuracy: 0.7698 - val_loss: 0.8989 - learning_rate: 7.8125e-06\n",
      "Epoch 55/70\n",
      "\u001b[1m261/261\u001b[0m \u001b[32m━━━━━━━━━━━━━━━━━━━━\u001b[0m\u001b[37m\u001b[0m \u001b[1m0s\u001b[0m 780ms/step - accuracy: 0.8015 - loss: 0.8004\n",
      "Epoch 55: val_accuracy did not improve from 0.77026\n",
      "\u001b[1m261/261\u001b[0m \u001b[32m━━━━━━━━━━━━━━━━━━━━\u001b[0m\u001b[37m\u001b[0m \u001b[1m215s\u001b[0m 825ms/step - accuracy: 0.8015 - loss: 0.8004 - val_accuracy: 0.7686 - val_loss: 0.9045 - learning_rate: 3.9063e-06\n",
      "Epoch 56/70\n",
      "\u001b[1m261/261\u001b[0m \u001b[32m━━━━━━━━━━━━━━━━━━━━\u001b[0m\u001b[37m\u001b[0m \u001b[1m0s\u001b[0m 780ms/step - accuracy: 0.7961 - loss: 0.8143\n",
      "Epoch 56: val_accuracy did not improve from 0.77026\n",
      "\u001b[1m261/261\u001b[0m \u001b[32m━━━━━━━━━━━━━━━━━━━━\u001b[0m\u001b[37m\u001b[0m \u001b[1m216s\u001b[0m 826ms/step - accuracy: 0.7961 - loss: 0.8142 - val_accuracy: 0.7700 - val_loss: 0.9022 - learning_rate: 3.9063e-06\n",
      "Epoch 57/70\n",
      "\u001b[1m261/261\u001b[0m \u001b[32m━━━━━━━━━━━━━━━━━━━━\u001b[0m\u001b[37m\u001b[0m \u001b[1m0s\u001b[0m 779ms/step - accuracy: 0.7958 - loss: 0.8091\n",
      "Epoch 57: val_accuracy did not improve from 0.77026\n",
      "\n",
      "Epoch 57: ReduceLROnPlateau reducing learning rate to 1.9531250927684596e-06.\n",
      "\u001b[1m261/261\u001b[0m \u001b[32m━━━━━━━━━━━━━━━━━━━━\u001b[0m\u001b[37m\u001b[0m \u001b[1m215s\u001b[0m 825ms/step - accuracy: 0.7958 - loss: 0.8091 - val_accuracy: 0.7695 - val_loss: 0.9005 - learning_rate: 3.9063e-06\n",
      "Epoch 58/70\n",
      "\u001b[1m261/261\u001b[0m \u001b[32m━━━━━━━━━━━━━━━━━━━━\u001b[0m\u001b[37m\u001b[0m \u001b[1m0s\u001b[0m 779ms/step - accuracy: 0.8041 - loss: 0.8044\n",
      "Epoch 58: val_accuracy did not improve from 0.77026\n",
      "\u001b[1m261/261\u001b[0m \u001b[32m━━━━━━━━━━━━━━━━━━━━\u001b[0m\u001b[37m\u001b[0m \u001b[1m215s\u001b[0m 825ms/step - accuracy: 0.8041 - loss: 0.8044 - val_accuracy: 0.7695 - val_loss: 0.9003 - learning_rate: 1.9531e-06\n",
      "Epoch 59/70\n",
      "\u001b[1m261/261\u001b[0m \u001b[32m━━━━━━━━━━━━━━━━━━━━\u001b[0m\u001b[37m\u001b[0m \u001b[1m0s\u001b[0m 780ms/step - accuracy: 0.8093 - loss: 0.8017\n",
      "Epoch 59: val_accuracy improved from 0.77026 to 0.77146, saving model to best_model_augmented.h5\n"
     ]
    },
    {
     "name": "stderr",
     "output_type": "stream",
     "text": [
      "WARNING:absl:You are saving your model as an HDF5 file via `model.save()` or `keras.saving.save_model(model)`. This file format is considered legacy. We recommend using instead the native Keras format, e.g. `model.save('my_model.keras')` or `keras.saving.save_model(model, 'my_model.keras')`. \n"
     ]
    },
    {
     "name": "stdout",
     "output_type": "stream",
     "text": [
      "\u001b[1m261/261\u001b[0m \u001b[32m━━━━━━━━━━━━━━━━━━━━\u001b[0m\u001b[37m\u001b[0m \u001b[1m216s\u001b[0m 826ms/step - accuracy: 0.8093 - loss: 0.8017 - val_accuracy: 0.7715 - val_loss: 0.9009 - learning_rate: 1.9531e-06\n",
      "Epoch 60/70\n",
      "\u001b[1m261/261\u001b[0m \u001b[32m━━━━━━━━━━━━━━━━━━━━\u001b[0m\u001b[37m\u001b[0m \u001b[1m0s\u001b[0m 780ms/step - accuracy: 0.8020 - loss: 0.7968\n",
      "Epoch 60: val_accuracy did not improve from 0.77146\n",
      "\n",
      "Epoch 60: ReduceLROnPlateau reducing learning rate to 1e-06.\n",
      "\u001b[1m261/261\u001b[0m \u001b[32m━━━━━━━━━━━━━━━━━━━━\u001b[0m\u001b[37m\u001b[0m \u001b[1m216s\u001b[0m 827ms/step - accuracy: 0.8020 - loss: 0.7968 - val_accuracy: 0.7707 - val_loss: 0.8999 - learning_rate: 1.9531e-06\n",
      "Epoch 61/70\n",
      "\u001b[1m261/261\u001b[0m \u001b[32m━━━━━━━━━━━━━━━━━━━━\u001b[0m\u001b[37m\u001b[0m \u001b[1m0s\u001b[0m 780ms/step - accuracy: 0.8064 - loss: 0.7969\n",
      "Epoch 61: val_accuracy did not improve from 0.77146\n",
      "\u001b[1m261/261\u001b[0m \u001b[32m━━━━━━━━━━━━━━━━━━━━\u001b[0m\u001b[37m\u001b[0m \u001b[1m262s\u001b[0m 826ms/step - accuracy: 0.8064 - loss: 0.7969 - val_accuracy: 0.7700 - val_loss: 0.9009 - learning_rate: 1.0000e-06\n",
      "Epoch 62/70\n",
      "\u001b[1m261/261\u001b[0m \u001b[32m━━━━━━━━━━━━━━━━━━━━\u001b[0m\u001b[37m\u001b[0m \u001b[1m0s\u001b[0m 780ms/step - accuracy: 0.8064 - loss: 0.7974\n",
      "Epoch 62: val_accuracy did not improve from 0.77146\n",
      "\u001b[1m261/261\u001b[0m \u001b[32m━━━━━━━━━━━━━━━━━━━━\u001b[0m\u001b[37m\u001b[0m \u001b[1m216s\u001b[0m 825ms/step - accuracy: 0.8064 - loss: 0.7974 - val_accuracy: 0.7703 - val_loss: 0.9003 - learning_rate: 1.0000e-06\n",
      "Epoch 63/70\n",
      "\u001b[1m261/261\u001b[0m \u001b[32m━━━━━━━━━━━━━━━━━━━━\u001b[0m\u001b[37m\u001b[0m \u001b[1m0s\u001b[0m 778ms/step - accuracy: 0.8046 - loss: 0.7901\n",
      "Epoch 63: val_accuracy did not improve from 0.77146\n",
      "\u001b[1m261/261\u001b[0m \u001b[32m━━━━━━━━━━━━━━━━━━━━\u001b[0m\u001b[37m\u001b[0m \u001b[1m215s\u001b[0m 824ms/step - accuracy: 0.8046 - loss: 0.7902 - val_accuracy: 0.7705 - val_loss: 0.9009 - learning_rate: 1.0000e-06\n",
      "Epoch 64/70\n",
      "\u001b[1m261/261\u001b[0m \u001b[32m━━━━━━━━━━━━━━━━━━━━\u001b[0m\u001b[37m\u001b[0m \u001b[1m0s\u001b[0m 781ms/step - accuracy: 0.8068 - loss: 0.7983\n",
      "Epoch 64: val_accuracy did not improve from 0.77146\n",
      "\u001b[1m261/261\u001b[0m \u001b[32m━━━━━━━━━━━━━━━━━━━━\u001b[0m\u001b[37m\u001b[0m \u001b[1m263s\u001b[0m 826ms/step - accuracy: 0.8068 - loss: 0.7983 - val_accuracy: 0.7705 - val_loss: 0.8995 - learning_rate: 1.0000e-06\n",
      "Epoch 65/70\n",
      "\u001b[1m261/261\u001b[0m \u001b[32m━━━━━━━━━━━━━━━━━━━━\u001b[0m\u001b[37m\u001b[0m \u001b[1m0s\u001b[0m 779ms/step - accuracy: 0.8101 - loss: 0.7941\n",
      "Epoch 65: val_accuracy did not improve from 0.77146\n",
      "\u001b[1m261/261\u001b[0m \u001b[32m━━━━━━━━━━━━━━━━━━━━\u001b[0m\u001b[37m\u001b[0m \u001b[1m262s\u001b[0m 824ms/step - accuracy: 0.8101 - loss: 0.7941 - val_accuracy: 0.7703 - val_loss: 0.9000 - learning_rate: 1.0000e-06\n",
      "Epoch 66/70\n",
      "\u001b[1m261/261\u001b[0m \u001b[32m━━━━━━━━━━━━━━━━━━━━\u001b[0m\u001b[37m\u001b[0m \u001b[1m0s\u001b[0m 781ms/step - accuracy: 0.7971 - loss: 0.8087\n",
      "Epoch 66: val_accuracy did not improve from 0.77146\n",
      "\u001b[1m261/261\u001b[0m \u001b[32m━━━━━━━━━━━━━━━━━━━━\u001b[0m\u001b[37m\u001b[0m \u001b[1m216s\u001b[0m 826ms/step - accuracy: 0.7971 - loss: 0.8086 - val_accuracy: 0.7715 - val_loss: 0.9000 - learning_rate: 1.0000e-06\n",
      "Epoch 67/70\n",
      "\u001b[1m261/261\u001b[0m \u001b[32m━━━━━━━━━━━━━━━━━━━━\u001b[0m\u001b[37m\u001b[0m \u001b[1m0s\u001b[0m 780ms/step - accuracy: 0.8015 - loss: 0.8056\n",
      "Epoch 67: val_accuracy did not improve from 0.77146\n",
      "\u001b[1m261/261\u001b[0m \u001b[32m━━━━━━━━━━━━━━━━━━━━\u001b[0m\u001b[37m\u001b[0m \u001b[1m216s\u001b[0m 826ms/step - accuracy: 0.8015 - loss: 0.8056 - val_accuracy: 0.7698 - val_loss: 0.9005 - learning_rate: 1.0000e-06\n",
      "Epoch 68/70\n",
      "\u001b[1m261/261\u001b[0m \u001b[32m━━━━━━━━━━━━━━━━━━━━\u001b[0m\u001b[37m\u001b[0m \u001b[1m0s\u001b[0m 780ms/step - accuracy: 0.8054 - loss: 0.7986\n",
      "Epoch 68: val_accuracy did not improve from 0.77146\n",
      "\u001b[1m261/261\u001b[0m \u001b[32m━━━━━━━━━━━━━━━━━━━━\u001b[0m\u001b[37m\u001b[0m \u001b[1m216s\u001b[0m 825ms/step - accuracy: 0.8053 - loss: 0.7987 - val_accuracy: 0.7707 - val_loss: 0.9004 - learning_rate: 1.0000e-06\n",
      "Epoch 69/70\n",
      "\u001b[1m261/261\u001b[0m \u001b[32m━━━━━━━━━━━━━━━━━━━━\u001b[0m\u001b[37m\u001b[0m \u001b[1m0s\u001b[0m 781ms/step - accuracy: 0.8011 - loss: 0.7934\n",
      "Epoch 69: val_accuracy did not improve from 0.77146\n",
      "\u001b[1m261/261\u001b[0m \u001b[32m━━━━━━━━━━━━━━━━━━━━\u001b[0m\u001b[37m\u001b[0m \u001b[1m216s\u001b[0m 827ms/step - accuracy: 0.8011 - loss: 0.7934 - val_accuracy: 0.7710 - val_loss: 0.8992 - learning_rate: 1.0000e-06\n",
      "Epoch 70/70\n",
      "\u001b[1m261/261\u001b[0m \u001b[32m━━━━━━━━━━━━━━━━━━━━\u001b[0m\u001b[37m\u001b[0m \u001b[1m0s\u001b[0m 781ms/step - accuracy: 0.8089 - loss: 0.7942\n",
      "Epoch 70: val_accuracy did not improve from 0.77146\n",
      "\u001b[1m261/261\u001b[0m \u001b[32m━━━━━━━━━━━━━━━━━━━━\u001b[0m\u001b[37m\u001b[0m \u001b[1m216s\u001b[0m 826ms/step - accuracy: 0.8089 - loss: 0.7941 - val_accuracy: 0.7698 - val_loss: 0.8987 - learning_rate: 1.0000e-06\n"
     ]
    }
   ],
   "source": [
    "import tensorflow as tf\n",
    "from tensorflow.keras.preprocessing.image import ImageDataGenerator\n",
    "from tensorflow.keras.models import Sequential\n",
    "from tensorflow.keras.layers import Conv2D, MaxPooling2D, Dropout, Flatten, Dense, BatchNormalization, Input\n",
    "from tensorflow.keras.callbacks import EarlyStopping, ModelCheckpoint, ReduceLROnPlateau\n",
    "from tensorflow.keras.regularizers import l2\n",
    "\n",
    "# 📁 Veri klasörleri\n",
    "train_dir = 'data/train'\n",
    "test_dir = 'data/test'\n",
    "\n",
    "# Parametreler\n",
    "img_height, img_width = 96, 96\n",
    "batch_size = 64\n",
    "epochs = 70\n",
    "\n",
    "# 🔁 Data augmentation (sadece train)\n",
    "train_datagen = ImageDataGenerator(\n",
    "    rescale=1./255,\n",
    "    rotation_range=15,\n",
    "    zoom_range=0.1,\n",
    "    width_shift_range=0.1,\n",
    "    height_shift_range=0.1,\n",
    "    horizontal_flip=True\n",
    ")\n",
    "\n",
    "test_datagen = ImageDataGenerator(rescale=1./255)\n",
    "\n",
    "train_generator = train_datagen.flow_from_directory(\n",
    "    train_dir,\n",
    "    target_size=(img_height, img_width),\n",
    "    batch_size=batch_size,\n",
    "    class_mode='categorical',\n",
    "    shuffle=True\n",
    ")\n",
    "\n",
    "test_generator = test_datagen.flow_from_directory(\n",
    "    test_dir,\n",
    "    target_size=(img_height, img_width),\n",
    "    batch_size=batch_size,\n",
    "    class_mode='categorical',\n",
    "    shuffle=False\n",
    ")\n",
    "\n",
    "# 🧠 Model tanımı (L2 regularizer ile)\n",
    "def create_custom_cnn(input_shape=(96, 96, 3), num_classes=6):\n",
    "    model = Sequential()\n",
    "    model.add(Input(shape=input_shape))\n",
    "\n",
    "    model.add(Conv2D(64, (3, 3), activation='relu', kernel_regularizer=l2(0.001)))\n",
    "    model.add(MaxPooling2D(pool_size=(2, 2)))\n",
    "    model.add(BatchNormalization())\n",
    "\n",
    "    model.add(Conv2D(128, (3, 3), activation='relu', kernel_regularizer=l2(0.001)))\n",
    "    model.add(MaxPooling2D(pool_size=(2, 2)))\n",
    "    model.add(BatchNormalization())\n",
    "\n",
    "    model.add(Conv2D(256, (3, 3), activation='relu', kernel_regularizer=l2(0.001)))\n",
    "    model.add(MaxPooling2D(pool_size=(2, 2)))\n",
    "    model.add(BatchNormalization())\n",
    "    model.add(Dropout(0.3))\n",
    "\n",
    "    model.add(Flatten())\n",
    "    model.add(Dense(256, activation='relu', kernel_regularizer=l2(0.001)))\n",
    "    model.add(Dropout(0.5))\n",
    "    model.add(Dense(num_classes, activation='softmax'))\n",
    "\n",
    "    return model\n",
    "\n",
    "# 🔧 Compile\n",
    "model = create_custom_cnn(num_classes=train_generator.num_classes)\n",
    "model.compile(optimizer='adam', loss='categorical_crossentropy', metrics=['accuracy'])\n",
    "\n",
    "# ✅ Callbacks\n",
    "checkpoint = ModelCheckpoint(\"best_model_augmented.h5\", monitor='val_accuracy', save_best_only=True, verbose=1)\n",
    "reduce_lr = ReduceLROnPlateau(monitor='val_loss', factor=0.5, patience=3, min_lr=1e-6, verbose=1)\n",
    "\n",
    "# 🚀 Eğitim\n",
    "history = model.fit(\n",
    "    train_generator,\n",
    "    validation_data=test_generator,\n",
    "    epochs=epochs,\n",
    "    callbacks=[checkpoint,reduce_lr]\n",
    ")\n"
   ]
  },
  {
   "cell_type": "code",
   "execution_count": null,
   "id": "a7cc92dc-1a2b-44b6-8f18-d815be191a6b",
   "metadata": {},
   "outputs": [
    {
     "name": "stderr",
     "output_type": "stream",
     "text": [
      "WARNING:absl:Compiled the loaded model, but the compiled metrics have yet to be built. `model.compile_metrics` will be empty until you train or evaluate the model.\n"
     ]
    }
   ],
   "source": [
    "import tkinter as tk\n",
    "from tkinter import filedialog\n",
    "import cv2\n",
    "import numpy as np\n",
    "import threading\n",
    "import time\n",
    "from datetime import datetime\n",
    "from tensorflow.keras.models import load_model\n",
    "\n",
    "# 🤖 Model ve sınıflar\n",
    "model = load_model(\"best_model_augmented.h5\")\n",
    "categories = ['angry', 'fear', 'happy', 'neutral', 'sad', 'surprise']\n",
    "face_cascade = cv2.CascadeClassifier(cv2.data.haarcascades + 'haarcascade_frontalface_default.xml')\n",
    "\n",
    "# 🧠 Duygu tahmin fonksiyonu\n",
    "def predict_emotion(img):\n",
    "    h, w = img.shape[:2]\n",
    "\n",
    "    # Küçük görsel ise büyüt\n",
    "    if h < 300 or w < 300:\n",
    "        scale = 2\n",
    "        img = cv2.resize(img, (w * scale, h * scale))\n",
    "\n",
    "    gray = cv2.cvtColor(img, cv2.COLOR_BGR2GRAY)\n",
    "    faces = face_cascade.detectMultiScale(gray, scaleFactor=1.3, minNeighbors=5)\n",
    "    results = []\n",
    "\n",
    "    for (x, y, w, h) in faces:\n",
    "        roi = img[y:y+h, x:x+w]\n",
    "        roi = cv2.resize(roi, (96, 96))\n",
    "        roi = cv2.cvtColor(roi, cv2.COLOR_BGR2RGB)\n",
    "        roi = roi.astype(\"float32\") / 255.0\n",
    "        roi = np.expand_dims(roi, axis=0)\n",
    "        pred = model.predict(roi, verbose=0)\n",
    "        emotion = categories[np.argmax(pred)]\n",
    "        results.append((emotion, (x, y, w, h)))\n",
    "\n",
    "    return results, img\n",
    "\n",
    "# 📁 Fotoğraf seçerek analiz\n",
    "def open_image():\n",
    "    file_path = filedialog.askopenfilename()\n",
    "    if not file_path:\n",
    "        return\n",
    "\n",
    "    img = cv2.imread(file_path)\n",
    "    results, _ = predict_emotion(img)\n",
    "\n",
    "    if results:\n",
    "        text_output = \"\"\n",
    "        for i, (emotion, _) in enumerate(results):\n",
    "            text_output += f\"Yüz {i+1}: {emotion}\\n\"\n",
    "    else:\n",
    "        text_output = \"Hiç yüz algılanamadı.\"\n",
    "\n",
    "    result_label.config(text=text_output)\n",
    "\n",
    "# 🎥 Kamerayla analiz (arayüze yazmaz!)\n",
    "def analyze_camera():\n",
    "    cap = cv2.VideoCapture(0)\n",
    "    output_file = open(\"duygu_cikti.txt\", \"w\", encoding=\"utf-8\")\n",
    "    last_time = time.time()\n",
    "\n",
    "    while True:\n",
    "        ret, frame = cap.read()\n",
    "        if not ret:\n",
    "            break\n",
    "\n",
    "        results, processed_frame = predict_emotion(frame)\n",
    "\n",
    "        # Her yüz için kare ve metin çiz\n",
    "        for emotion, (x, y, w, h) in results:\n",
    "            cv2.rectangle(processed_frame, (x, y), (x+w, y+h), (255, 0, 0), 2)\n",
    "            cv2.putText(processed_frame, emotion, (x, y - 10), cv2.FONT_HERSHEY_SIMPLEX,\n",
    "                        1, (0, 255, 0), 2, cv2.LINE_AA)\n",
    "\n",
    "        # Her 5 saniyede bir .txt dosyasına kaydet\n",
    "        if time.time() - last_time >= 1 and results:\n",
    "            timestamp = datetime.now().strftime(\"%Y-%m-%d %H:%M:%S\")\n",
    "            for emotion, _ in results:\n",
    "                output_file.write(f\"{timestamp}: {emotion}\\n\")\n",
    "            output_file.flush()\n",
    "            last_time = time.time()\n",
    "\n",
    "        # OpenCV penceresi göster\n",
    "        cv2.imshow(\"Canlı Duygu Analizi (Çıkmak için Q)\", processed_frame)\n",
    "        if cv2.waitKey(1) & 0xFF == ord('q'):\n",
    "            break\n",
    "\n",
    "    cap.release()\n",
    "    output_file.close()\n",
    "    cv2.destroyAllWindows()\n",
    "\n",
    "# ⏯️ Thread ile çalıştır\n",
    "def start_camera_thread():\n",
    "    t = threading.Thread(target=analyze_camera)\n",
    "    t.start()\n",
    "\n",
    "# 🖼️ Tkinter Arayüz\n",
    "root = tk.Tk()\n",
    "root.title(\"Duygu Analizi Uygulaması\")\n",
    "root.geometry(\"450x300\")\n",
    "\n",
    "title_label = tk.Label(root, text=\"Duygu Analizi Sistemi\", font=(\"Helvetica\", 16, \"bold\"))\n",
    "title_label.pack(pady=20)\n",
    "\n",
    "btn1 = tk.Button(root, text=\"📁 Fotoğraf Seç\", font=(\"Helvetica\", 13), command=open_image)\n",
    "btn1.pack(pady=10)\n",
    "\n",
    "btn2 = tk.Button(root, text=\"📷 Kamerayla Analiz Et\", font=(\"Helvetica\", 13), command=start_camera_thread)\n",
    "btn2.pack(pady=10)\n",
    "\n",
    "result_label = tk.Label(root, text=\"\", font=(\"Helvetica\", 12), fg=\"blue\", justify=\"left\")\n",
    "result_label.pack(pady=15)\n",
    "\n",
    "root.mainloop()\n"
   ]
  },
  {
   "cell_type": "code",
   "execution_count": null,
   "id": "0bc0985b-9b66-4e3e-a0d1-71aaa7fb8a10",
   "metadata": {},
   "outputs": [],
   "source": []
  },
  {
   "cell_type": "code",
   "execution_count": null,
   "id": "886b0ded-6222-4466-97b8-dc9a6e243b03",
   "metadata": {},
   "outputs": [],
   "source": []
  }
 ],
 "metadata": {
  "kernelspec": {
   "display_name": "Python 3 (ipykernel)",
   "language": "python",
   "name": "python3"
  },
  "language_info": {
   "codemirror_mode": {
    "name": "ipython",
    "version": 3
   },
   "file_extension": ".py",
   "mimetype": "text/x-python",
   "name": "python",
   "nbconvert_exporter": "python",
   "pygments_lexer": "ipython3",
   "version": "3.12.7"
  }
 },
 "nbformat": 4,
 "nbformat_minor": 5
}
